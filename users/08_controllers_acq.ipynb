{
 "cells": [
  {
   "cell_type": "markdown",
   "metadata": {
    "slideshow": {
     "slide_type": "slide"
    }
   },
   "source": [
    "\n",
    "# Data acquisition controllers\n",
    "<br>\n",
    "<br>\n",
    "<img alt=\"Creative Commons License\" style=\"border-width:0\" src=\"https://i.creativecommons.org/l/by/4.0/88x31.png\" />\n",
    "Sardana-Training by ALBA Synchrotron is licensed under the Creative Commons Attribution 4.0 International License.  \n",
    "To view a copy of this license, visit http://creativecommons.org/licenses/by/4.0/."
   ]
  },
  {
   "cell_type": "markdown",
   "metadata": {
    "slideshow": {
     "slide_type": "slide"
    }
   },
   "source": [
    "## Contents\n",
    "\n",
    "* Writing counter/timer controller - Network Trafic Counter\n",
    "* Playing with Blender Detector - 2D experimental channel controller"
   ]
  },
  {
   "cell_type": "markdown",
   "metadata": {
    "slideshow": {
     "slide_type": "slide"
    }
   },
   "source": [
    "## Network Traffic Counter\n",
    "### How to write a counter/timer controller"
   ]
  },
  {
   "cell_type": "markdown",
   "metadata": {
    "slideshow": {
     "slide_type": "subslide"
    }
   },
   "source": [
    "### Network Traffic Counter\n",
    "\n",
    "* Open the code in your favourite editor e.g.:\n",
    "  ```\n",
    "  kwrite ~/sardana-training/controllers/templates/NetworkTrafficCTCtrl.py\n",
    "  ```"
   ]
  },
  {
   "cell_type": "markdown",
   "metadata": {
    "slideshow": {
     "slide_type": "subslide"
    }
   },
   "source": [
    "### Network Traffic Counter\n",
    "* Network traffic counter counts bytes that pass via a network interface (both ways)\n",
    "* Demo:\n",
    " * Directly from the system:\n",
    "   ```\n",
    "   cat /proc/net/dev | grep eth0\n",
    "   ```\n",
    " * Using python function:\n",
    "   ```\n",
    "   cd ~/sardana-training/controllers\n",
    "   python3 -c \"from NetworkTrafficCTCtrl import read_network_counts; print(read_network_counts('eth0'))\"\n",
    "   ```"
   ]
  },
  {
   "cell_type": "markdown",
   "metadata": {
    "slideshow": {
     "slide_type": "subslide"
    }
   },
   "source": [
    "### [Writing constructor](http://www.sardana-controls.org/devel/howto_controllers/howto_controller.html#constructor)\n",
    "* Constructor\n",
    " * Called on: controllers creation, pool startup and controller's code reload\n",
    " * Accepts arguments: instance (name of the controller instance) and properties (dictionary with the controller properties)\n",
    " * If an exception is raised when constructing the controller, the controller automatically gets into the Fault state and its status describes the exception that occured\n",
    "* [Define controller property](http://www.sardana-controls.org/devel/howto_controllers/howto_controller.html#extra-controller-properties) `interface`"
   ]
  },
  {
   "cell_type": "markdown",
   "metadata": {
    "slideshow": {
     "slide_type": "subslide"
    }
   },
   "source": [
    "### [Writing constructor](http://www.sardana-controls.org/devel/howto_controllers/howto_controller.html#constructor)\n",
    "* Counter will work on the following principle:\n",
    " * Load of the timer will store the integration time in the cache\n",
    " * Start of the counting will latch the current number of bytes\n",
    " * Start of the counting will define the end acquisition time (current time + integration time)\n",
    "* In the constructor we need to instantiate the necessary variables:\n",
    " * acq_time = 1\n",
    " * acq_end_time = time.time()\n",
    " * start_counts = 0"
   ]
  },
  {
   "cell_type": "markdown",
   "metadata": {
    "slideshow": {
     "slide_type": "subslide"
    }
   },
   "source": [
    "### Instantiate controller\n",
    "* Deploy controller:\n",
    "  ```\n",
    "  ln -s ~/sardana-training/controllers/templates/NetworkTrafficCTCtrl.py ~/controllers\n",
    "  ```\n",
    "* Load it in the system (in Spock):\n",
    "  ```\n",
    "  addctrllib NetworkTrafficCTCtrl\n",
    "  ```\n",
    "* Create an instance of the controller:\n",
    "  ```\n",
    "  defctrl NetworkTrafficCounterTimerController netctrl interface eth0\n",
    "  ```\n",
    "* Ask for controllers state:\n",
    "  ```\n",
    "  netctrl.state()\n",
    "  ```"
   ]
  },
  {
   "cell_type": "markdown",
   "metadata": {
    "slideshow": {
     "slide_type": "subslide"
    }
   },
   "source": [
    "### [Implement StateOne](http://www.sardana-controls.org/devel/howto_controllers/howto_controller.html#get-axis-state)\n",
    "* Assume state is On\n",
    "* Only if current time is less then the acq_end_time return Moving state\n",
    "* IMPORTANT: due to [sardana-org/sardana#621](https://github.com/sardana-org/sardana/issues/621) return an empty status `\"\"`"
   ]
  },
  {
   "cell_type": "markdown",
   "metadata": {
    "slideshow": {
     "slide_type": "subslide"
    }
   },
   "source": [
    "### [Implement LoadOne](http://www.sardana-controls.org/devel/howto_controllers/howto_countertimercontroller.html#load-a-counter)\n",
    " * receives either integration time or monitor counts (negative number) as arguments \\*\n",
    " * is called only on the controller's timer or monitor\n",
    " \n",
    " * store the integration time in the cache `acq_time`\n",
    " \n",
    "\\* An advanced API is available for continuous acquisitions e.g. continuous scans"
   ]
  },
  {
   "cell_type": "markdown",
   "metadata": {
    "slideshow": {
     "slide_type": "subslide"
    }
   },
   "source": [
    "### [Implement ReadOne](http://www.sardana-controls.org/devel/howto_controllers/howto_countertimercontroller.html#get-counter-value)\n",
    " * returns a single counter value\n",
    " * is called multiple times during the acquisition operation\n",
    "\n",
    " * latch network bytes\n",
    " * return a difference between the current network bytes and `start_counts`\n",
    " \n",
    "\\* An advanced API is available for continuous acquisitions e.g. continuous scans"
   ]
  },
  {
   "cell_type": "markdown",
   "metadata": {
    "slideshow": {
     "slide_type": "subslide"
    }
   },
   "source": [
    "### Instantiate net counter\n",
    "* Reload controller code (in Spock):\n",
    "  ```\n",
    "  relctrlcls NetworkTrafficCounterTimerController\n",
    "  ``` \n",
    "* Create motor instance (in Spock):\n",
    "  ```\n",
    "  defelem net netctrl 1\n",
    "  ```\n",
    "* Ask for motor state (in Spock):\n",
    "  ```\n",
    "  net.state()\n",
    "  ```"
   ]
  },
  {
   "cell_type": "markdown",
   "metadata": {
    "slideshow": {
     "slide_type": "subslide"
    }
   },
   "source": [
    "### [Implement StartOne](http://www.sardana-controls.org/devel/howto_controllers/howto_countertimercontroller.html#start-a-counter)\n",
    " * receives intergation timer or monitor count as argument\n",
    " * latch the current bytes to `start_counts` and calcultate the end acquisition time in `acq_end_time`"
   ]
  },
  {
   "cell_type": "markdown",
   "metadata": {
    "slideshow": {
     "slide_type": "subslide"
    }
   },
   "source": [
    "### Demonstrate single acquisition with net counter\n",
    "* Reload controller code (in Spock):\n",
    "  ```\n",
    "  relctrlcls NetworkTrafficCounterTimerController\n",
    "  ``` \n",
    "* Count (in Spock)  -> zero counts!:\n",
    "  ```\n",
    "  uct 1 net\n",
    "  ```\n",
    "* While long counting (in Spock):\n",
    "  ```\n",
    "  uct net 10\n",
    "  ```\n",
    "  get sardana CHANGELOG with the `wget` tool:\n",
    "  ```\n",
    "  wget https://github.com/sardana-org/sardana/blob/develop/CHANGELOG.md\n",
    "  ```\n"
   ]
  },
  {
   "cell_type": "markdown",
   "metadata": {
    "slideshow": {
     "slide_type": "slide"
    }
   },
   "source": [
    "## Blender Detector\n",
    "### Play with the 2D experimental channel on example of Blender Detector"
   ]
  },
  {
   "cell_type": "markdown",
   "metadata": {
    "slideshow": {
     "slide_type": "subslide"
    }
   },
   "source": [
    "### Instantiate controller and experimental channels\n",
    "* Deploy controller:\n",
    "  ```\n",
    "  ln -s ~/sardana-training/controllers/Blender2DCtrl.py ~/controllers\n",
    "  ```\n",
    "* Load it in the system (in Spock):\n",
    "  ```\n",
    "  addctrllib Blender2DCtrl\n",
    "  ```\n",
    "* Create an instance of the controller (in Spock):\n",
    "  ```\n",
    "  defctrl Blender2DController ble2dctrl\n",
    "  ```\n",
    "* Ask for controllers state (in Spock): \n",
    "  ```\n",
    "  ble2dctrl.state()\n",
    "  ```\n",
    "* Create an instance of the 2D experimental channel (in Spock): \n",
    "  ```\n",
    "  defelem ble2d ble2dctrl\n",
    "  ```\n",
    "* Ask for channels state (in Spock):\n",
    "  ```\n",
    "  ble2d.state()\n",
    "  ```"
   ]
  },
  {
   "cell_type": "markdown",
   "metadata": {
    "slideshow": {
     "slide_type": "subslide"
    }
   },
   "source": [
    "### Acquire with the detector - data transfer\n",
    "\n",
    "* Configure timer (in Spock, line by line):\n",
    "  ```\n",
    "  ble2d.timer = \"__self\"\n",
    "  ct 1 ble2d\n",
    "  ```\n",
    "* Show image (`value` attribute): \n",
    "  ```\n",
    "  taurus form ble2d\n",
    "  ```\n",
    "* In `expconf` (started from Spock):\n",
    "  * define measurement group with the `ble2d` channel\n",
    "  * configure storage to HDF5 file (_Storage_ tab -> _File name(s)_ & _Path_):\n",
    "* Move slits to a well known position (in Spock):\n",
    "  ```\n",
    "  mv gapvert 10 gaphor 10 offsetvert 0 offsethor 0\n",
    "  ```\n",
    "* Slightly open left blade (in Spock):\n",
    "  ```\n",
    "  mv left 50\n",
    "  ```\n",
    "* Scan the vertical offset (in Spock):\n",
    "  ```\n",
    "  dscan offsetvert -10 10 10 0.1\n",
    "  ```\n",
    "* Show images with `silx` (remember to close `silx` afterwards):\n",
    "  ```\n",
    "  silx view\n",
    "  ```"
   ]
  },
  {
   "cell_type": "markdown",
   "metadata": {
    "slideshow": {
     "slide_type": "subslide"
    }
   },
   "source": [
    "### Acquire with the detector - data references transfer\n",
    "\n",
    "* In `expconf` configure data referencing:\n",
    "    * _Ref Enabled_ -> True\n",
    "    * _Ref Pattern_ -> `h5file:///tmp/ble2d_img{image_nb:03d}.h5`\n",
    "* Repeat the last scan (in Spock):\n",
    "  ```\n",
    "  dscan offsetvert -10 10 10 0.1\n",
    "  ```\n",
    "* Show images via VDS with `silx` (remember to close `silx` afterwards):\n",
    "  ```\n",
    "  silx view\n",
    "  ```\n",
    "  * Note the usage of HDF5 VDS - image data are not stored in the Sardana file. \n",
    "    "
   ]
  }
 ],
 "metadata": {
  "celltoolbar": "Slideshow",
  "kernelspec": {
   "display_name": "Python 3",
   "language": "python",
   "name": "python3"
  },
  "language_info": {
   "codemirror_mode": {
    "name": "ipython",
    "version": 3
   },
   "file_extension": ".py",
   "mimetype": "text/x-python",
   "name": "python",
   "nbconvert_exporter": "python",
   "pygments_lexer": "ipython3",
   "version": "3.5.3"
  }
 },
 "nbformat": 4,
 "nbformat_minor": 2
}
