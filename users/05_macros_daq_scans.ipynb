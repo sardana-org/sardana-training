{
 "cells": [
  {
   "cell_type": "markdown",
   "metadata": {
    "slideshow": {
     "slide_type": "slide"
    }
   },
   "source": [
    "# Macros: scans, data acquisition and storage\n",
    "<br>\n",
    "<br>\n",
    "<img alt=\"Creative Commons License\" style=\"border-width:0\" src=\"https://i.creativecommons.org/l/by/4.0/88x31.png\" />\n",
    "Sardana-Training by ALBA Synchrotron is licensed under the Creative Commons Attribution 4.0 International License.  \n",
    "To view a copy of this license, visit http://creativecommons.org/licenses/by/4.0/."
   ]
  },
  {
   "cell_type": "markdown",
   "metadata": {
    "slideshow": {
     "slide_type": "slide"
    }
   },
   "source": [
    "## Contents\n",
    "\n",
    "* MacroServer overview\n",
    "* MeasurementGroup overview\n",
    "* Generic Scan Framework\n",
    "* Recorders"
   ]
  },
  {
   "cell_type": "markdown",
   "metadata": {
    "slideshow": {
     "slide_type": "slide"
    }
   },
   "source": [
    "## [MacroServer overview](http://www.sardana-controls.org/devel/overview/overview_macroserver.html)\n",
    "\n",
    "* Is a controlled environment to run procedures, called macros, sequentially or simultaneously (using multiple entry-points called *Doors*)\n",
    "* Provides a standard [catalogue](http://www.sardana-controls.org/users/standard_macro_catalog.html) of procedures.\n",
    "* Macros syntax is inspired on the SPEC control system syntax\n",
    "* Allows to plug in new/custom procedures written as Python functions or classes\n",
    "* Connects to device Pool(s) and allows to act on their elements from within macros"
   ]
  },
  {
   "cell_type": "markdown",
   "metadata": {
    "slideshow": {
     "slide_type": "slide"
    }
   },
   "source": [
    "## [MeasurementGroup overview](http://www.sardana-controls.org/devel/overview/overview_measurementgroup.html)\n",
    "\n",
    "* MeasurementGroup is a high level element whose role is to:\n",
    "  * coordinate a complex measurement process\n",
    "  * provide a simplified interface to it\n",
    "* Run `uct` macro in Spock\n",
    "  ```\n",
    "  uct\n",
    "  ``` \n",
    "* Open `expconf` in Spock\n",
    "  ```\n",
    "  expconf\n",
    "  ```\n",
    "* Disable some channels in the `expconf` e.g. `ct02` and `ct04` (Enabled column -> False) and run `ct` macro in spock:\n",
    "  ```\n",
    "  ct\n",
    "  ```\n",
    "* Briefly review other configuration parameters\n",
    "* Add 1D channel `oned01` in `expconf` (Add channel `+` button), apply changes and run `ct` macro\n",
    "* Create new measurement group using the `defmeas` macro in Spock and run `ct` afterwards:\n",
    "  ```\n",
    "  defmeas mntgrp02 ct01 twod01\n",
    "  ct\n",
    "  ``` \n",
    "  * Note the _external changes_ pop-up.\n",
    "* Change active measurement group in expconf and run `ct` macro"
   ]
  },
  {
   "cell_type": "markdown",
   "metadata": {
    "slideshow": {
     "slide_type": "slide"
    }
   },
   "source": [
    "## Generic Scan Framework - demo\n",
    "\n",
    "* Precise software synchronized continuous scans require intensive monitoring loops. Increase the frequency of position checks (in Spock) and restart the Sardana server:\n",
    "```\n",
    "Pool_demo1_1.put_property({\"MotionLoop_StatesPerPosition\":\"1\"})\n",
    "```\n",
    "* Start taurustrend with high frequency of polling (in bash):\n",
    " ```\n",
    " taurus tpg trend mot01/position \"eval:int(bool({ct01/state}))\"\n",
    " ```\n",
    " * Configure *Forced read* period of 10 ms \n",
    " * Configure fill area of the state curve and move it to y2 axis in *Plot configuration*\n",
    "* Demonstrate step scan in Spock:\n",
    "  ```\n",
    "  ascan mot01 0 10 10 1\n",
    "  ```\n",
    "* Demonstrate continuous scan with no latency time in Spock:\n",
    "  ```\n",
    "  ascanct mot01 0 10 10 1\n",
    "  ```\n",
    "* Demonstrate continuous scan with 100 ms latency time (in spock):\n",
    "  ```\n",
    "  ascanct mot01 0 10 10 1 0.1\n",
    "  ```\n",
    "* Configure hardware synchronization for `ct01` in `expconf` (_Synchronizer_ column -> `tg01`) and execute the scan without latency\n",
    "time:\n",
    "  ```\n",
    "  ascanct mot01 0 10 10 1\n",
    "  ```\n",
    "  * Note about cooexistence of software and hardware synchronization modes in the same scan\n",
    "  * Note the continuous _moving_ state of the `ct01`"
   ]
  },
  {
   "cell_type": "markdown",
   "metadata": {
    "slideshow": {
     "slide_type": "slide"
    }
   },
   "source": [
    "## Generic Scan Framework (GSF)\n",
    "\n",
    "* Scanning modes: step, continuous and time\n",
    "* Provides the catalogue of turn-key scan macros e.g., `ascan`, `dscan`, `a2scanc`, `ascanct`, `mesh`, `timescan`, etc.\n",
    "* Provides the base classes for developing custom scans e.g., `GScan`, `SScan`, `CScan`, etc.\n",
    "* Custom scans are developed by instantiating the base class and developing a custom generator\n",
    "* Scans are highly configurable with the [environment variables](http://www.sardana-controls.org/users/scan.html#configuration) e.g. `ActiveMntGrp`, `ScanFile`, `ApplyInterpolation`\n",
    "* Scans macros [support hooks](http://www.sardana-controls.org/devel/howto_macros/scan_framework.html#hooks-support-in-scans) e.g. `pre-scan`, `post-acq`"
   ]
  },
  {
   "cell_type": "markdown",
   "metadata": {
    "slideshow": {
     "slide_type": "slide"
    }
   },
   "source": [
    "## [Recorders](http://www.sardana-controls.org/devel/howto_recorders.html#writing-recorders)\n",
    "\n",
    "![Sardana data flow](res/recorders.png)"
   ]
  },
  {
   "cell_type": "markdown",
   "metadata": {
    "slideshow": {
     "slide_type": "slide"
    }
   },
   "source": [
    "## Recorders - demo\n",
    "\n",
    "### Demonstrate recorder selection based on the file extension\n",
    "\n",
    "* In spock start `expconf`\n",
    "* In `expconf` _Storage_ tab set scan file to `test.h5` and directory to `/tmp` (equivalent in Spock with `senv ScanFile test.h5` and `senv ScanDir /tmp`)\n",
    "* Execute a scan: `ascan mot01 0 2 2 0.1`\n",
    "* Access to the data with `silx`\n",
    "* Close the `silx`"
   ]
  }
 ],
 "metadata": {
  "celltoolbar": "Slideshow",
  "kernelspec": {
   "display_name": "Python 2",
   "language": "python",
   "name": "python2"
  },
  "language_info": {
   "codemirror_mode": {
    "name": "ipython",
    "version": 2
   },
   "file_extension": ".py",
   "mimetype": "text/x-python",
   "name": "python",
   "nbconvert_exporter": "python",
   "pygments_lexer": "ipython2",
   "version": "2.7.13"
  }
 },
 "nbformat": 4,
 "nbformat_minor": 2
}
