{
 "cells": [
  {
   "cell_type": "markdown",
   "metadata": {
    "slideshow": {
     "slide_type": "slide"
    }
   },
   "source": [
    "# Introduction\n",
    "<br>\n",
    "<br>\n",
    "<img alt=\"Creative Commons License\" style=\"border-width:0\" src=\"https://i.creativecommons.org/l/by/4.0/88x31.png\" />\n",
    "Sardana-Training by ALBA Synchrotron is licensed under the Creative Commons Attribution 4.0 International License.  \n",
    "To view a copy of this license, visit http://creativecommons.org/licenses/by/4.0/."
   ]
  },
  {
   "cell_type": "markdown",
   "metadata": {
    "slideshow": {
     "slide_type": "slide"
    }
   },
   "source": [
    "# Sardana VM (sardana-icalepcs2019.ova)\n",
    "\n",
    "* VM is a Debian Buster\n",
    "    * it contains all Sardana Suite dependencies installed with the official Debian packages\n",
    "    * some other tools which may be installed from PyPI\n",
    "\n",
    "* Run the VM\n",
    "    * Import `sardana-icalepcs2019.ova` with VirtualBox (VirtualBox -> File -> Import Appliance)\n",
    "    * Start the VM\n",
    "    * Log in with user **`vagrant`** & password **`vagrant`**\n",
    "    \n",
    "* If you want to recreate this VM, or just view it in details, please check the [Vagrantfile](https://github.com/sardana-org/sardana-training/tree/icalepcs2019/vagrant)"
   ]
  },
  {
   "cell_type": "markdown",
   "metadata": {
    "slideshow": {
     "slide_type": "subslide"
    }
   },
   "source": [
    "## Sardana VM - last minute fixes\n",
    "\n",
    "* Either use the OVA from the USB or from [here](TODO)\n",
    "* Or try to fix it (requires Internet access):\n",
    "  * Copy `h5py` and `taurus_pyqtgraph` from `/root/.local/...` to `~/.local/...`:\n",
    "    ```\n",
    "    cd ~/sardana-training/\n",
    "    git pull\n",
    "    sudo ~/sardana-training/users/copy_modules\n",
    "    python3 -c \"import h5py\"\n",
    "    python3 -c \"import taurus\"\n",
    "    ```\n",
    "  * Install `gevent` and `blender` (optionally `emacs` and `okular`):\n",
    "    ```\n",
    "    sudo apt-get install -y python3-gevent blender\n",
    "    sudo apt-get install -y emacs okular\n",
    "    ```"
   ]
  },
  {
   "cell_type": "markdown",
   "metadata": {
    "slideshow": {
     "slide_type": "slide"
    }
   },
   "source": [
    "# We will follow the Sardana training materials (users)\n",
    "\n",
    "* Download the latest version of this training files\n",
    "  ```\n",
    "  cd ~/sardana-training\n",
    "  git pull\n",
    "  ```\n",
    "* Slides are accessible on https://sardana-org.github.io/sardana-training"
   ]
  }
 ],
 "metadata": {
  "celltoolbar": "Slideshow",
  "kernelspec": {
   "display_name": "Python 2",
   "language": "python",
   "name": "python2"
  },
  "language_info": {
   "codemirror_mode": {
    "name": "ipython",
    "version": 2
   },
   "file_extension": ".py",
   "mimetype": "text/x-python",
   "name": "python",
   "nbconvert_exporter": "python",
   "pygments_lexer": "ipython2",
   "version": "2.7.13"
  }
 },
 "nbformat": 4,
 "nbformat_minor": 2
}
