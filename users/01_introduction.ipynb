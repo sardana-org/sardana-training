{
 "cells": [
  {
   "cell_type": "markdown",
   "metadata": {
    "slideshow": {
     "slide_type": "slide"
    }
   },
   "source": [
    "# Introduction\n",
    "<br>\n",
    "<br>\n",
    "<img alt=\"Creative Commons License\" style=\"border-width:0\" src=\"https://i.creativecommons.org/l/by/4.0/88x31.png\" />\n",
    "Sardana-Training by ALBA Synchrotron is licensed under the Creative Commons Attribution 4.0 International License.  \n",
    "To view a copy of this license, visit http://creativecommons.org/licenses/by/4.0/."
   ]
  },
  {
   "cell_type": "markdown",
   "metadata": {
    "slideshow": {
     "slide_type": "slide"
    }
   },
   "source": [
    "# Sardana VM (sardana-icalepcs2019.ova)\n",
    "\n",
    "* VM is a Debian Buster\n",
    "    * it contains all Sardana Suite dependencies installed with the official Debian packages\n",
    "    * some other tools which may be installed with PyPI\n",
    "\n",
    "* Run the VM\n",
    "    * Import `sardana-icalepcs2019.ova` with VirtualBox (VirtualBox -> File -> Import Appliance)\n",
    "    * Start the VM\n",
    "    * Log in with user **`vagrant`** & password **`vagrant`**\n",
    "    \n",
    "* If you want to recreate this environment, or just view it in details, please check the [Vagrantfile](https://github.com/sardana-org/sardana-training/tree/icalepcs2019/vagrant)"
   ]
  },
  {
   "cell_type": "markdown",
   "metadata": {
    "slideshow": {
     "slide_type": "slide"
    }
   },
   "source": [
    "# We will follow the Sardana training materials (users)\n",
    "\n",
    "* Download the latest version of this training files\n",
    "  ```\n",
    "  cd ~/sardana-training\n",
    "  git pull\n",
    "  ```"
   ]
  },
  {
   "cell_type": "markdown",
   "metadata": {
    "slideshow": {
     "slide_type": "slide"
    }
   },
   "source": [
    "# Other resources to be used during the workshop\n",
    "\n",
    "## Main pages:\n",
    "Main access point to documentation and projects:\n",
    "\n",
    "* Taurus home page: http://www.taurus-scada.org\n",
    "* Sardana home page: http://www.sardana-controls.org"
   ]
  },
  {
   "cell_type": "markdown",
   "metadata": {
    "slideshow": {
     "slide_type": "subslide"
    }
   },
   "source": [
    "## Project pages\n",
    "For downloading the latest code, reporting issues, ask questions and contribute:\n",
    "\n",
    "* Taurus: https://github.com/taurus-org/taurus\n",
    "* Sardana: https://github.com/sardana-org/sardana\n",
    "* Sardana Plugins Catalogue: https://github.com/sardana-org/sardana-plugins"
   ]
  },
  {
   "cell_type": "markdown",
   "metadata": {
    "slideshow": {
     "slide_type": "subslide"
    }
   },
   "source": [
    "## Enhancement proposals\n",
    "The Sardana and Taurus communities follow the example of the Python and Debian projects and use \"Enhancement proposals\" for documenting and coordinating the introduction of *critical* features or workflows that require special discussion. Approved Enhancement Proposals can be found in:\n",
    "* [Taurus Enhancement Proposal (TEP) index](http://www.taurus-scada.org/tep/?)\n",
    "* [Sardana Enhancement Proposal (SEP) index](http://www.sardana-controls.org/sep/?)"
   ]
  },
  {
   "cell_type": "markdown",
   "metadata": {
    "slideshow": {
     "slide_type": "slide"
    }
   },
   "source": [
    "# Getting support\n",
    "\n",
    "The **preferred** way of getting support is via GitHub Issues (for [Taurus](https://github.com/taurus-org/taurus/issues) and [Sardana](https://github.com/sardana-org/sardana/issues)). Use them for asking questions, reporting bugs, suggesting features,... etc\n",
    "\n",
    "There also exist mailing lists ([taurus](https://sourceforge.net/p/tauruslib/mailman/) / [sardana](https://sourceforge.net/p/sardana/mailman/)), but they should be used mostly for announcements and for coordination between developers.\n",
    "\n"
   ]
  }
 ],
 "metadata": {
  "celltoolbar": "Slideshow",
  "kernelspec": {
   "display_name": "Python 2",
   "language": "python",
   "name": "python2"
  },
  "language_info": {
   "codemirror_mode": {
    "name": "ipython",
    "version": 2
   },
   "file_extension": ".py",
   "mimetype": "text/x-python",
   "name": "python",
   "nbconvert_exporter": "python",
   "pygments_lexer": "ipython2",
   "version": "2.7.13"
  }
 },
 "nbformat": 4,
 "nbformat_minor": 2
}
