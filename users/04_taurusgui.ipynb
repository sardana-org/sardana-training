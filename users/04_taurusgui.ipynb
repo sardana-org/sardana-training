{
 "cells": [
  {
   "cell_type": "markdown",
   "metadata": {
    "slideshow": {
     "slide_type": "slide"
    }
   },
   "source": [
    "# TAURUS GUI CREATION FROM SCRATCH\n",
    "<br>\n",
    "<br>\n",
    "<img alt=\"Creative Commons License\" style=\"border-width:0\" src=\"https://i.creativecommons.org/l/by/4.0/88x31.png\" />\n",
    "Sardana-Training by ALBA Synchrotron is licensed under the Creative Commons Attribution 4.0 International License.  \n",
    "To view a copy of this license, visit http://creativecommons.org/licenses/by/4.0/."
   ]
  },
  {
   "cell_type": "markdown",
   "metadata": {
    "slideshow": {
     "slide_type": "slide"
    }
   },
   "source": [
    "# Prerequisites\n",
    "\n",
    "## Start `TangoTest` device server\n",
    "* open a new konsole and run:\n",
    "```\n",
    "/usr/lib/tango/TangoTest test\n",
    "```\n",
    "\n",
    "## Assumes `sar_demo` environment running"
   ]
  },
  {
   "cell_type": "markdown",
   "metadata": {
    "slideshow": {
     "slide_type": "slide"
    }
   },
   "source": [
    "# TAURUS GUI CREATION\n",
    "\n",
    "## Create a Taurus GUI from scratch containing Sardana elements"
   ]
  },
  {
   "cell_type": "markdown",
   "metadata": {
    "slideshow": {
     "slide_type": "subslide"
    }
   },
   "source": [
    "### TAURUS GUI CREATION FROM SCRATCH\n",
    "  \n",
    "  \n",
    "* Create a new GUI with **taurus newgui**\n",
    "```\n",
    "taurus newgui \n",
    "```\n",
    "  \n",
    "* Follow the wizard of **taurus newgui**\n",
    " * Choose the project directory (e.g: `/home/vagrant/demogui`)\n",
    " * Choose GUI name (e.g: `demogui`)\n",
    " * Add synoptic (optional): `/home/vagrant/sardana-training/users/res/demoBL.jdw `\n",
    " * Enable Sardana communication (optional): Sardana `demo1` \n",
    " * Generate panels from Sardana Pool (optional): choose `yes` \n",
    " * We will skip some steps: custom logo, extra panels, Monitor list"
   ]
  },
  {
   "cell_type": "markdown",
   "metadata": {
    "slideshow": {
     "slide_type": "subslide"
    }
   },
   "source": [
    "### TAURUS GUI INSTALLATION AND LAUNCH\n",
    "\n",
    "* Install the freshly created Taurus GUI:\n",
    "  ```\n",
    "  pip3 install --user /home/vagrant/demogui\n",
    "  ```\n",
    "  \n",
    "* Congratulations! You can already run your freshly created GUI:\n",
    "  ```\n",
    "  demogui\n",
    "  ```"
   ]
  },
  {
   "cell_type": "markdown",
   "metadata": {
    "slideshow": {
     "slide_type": "slide"
    }
   },
   "source": [
    "# TAURUS GUI FEATURES\n",
    "\n",
    "## Playing with demogui: Adding panels, loading perspectives, etc."
   ]
  },
  {
   "cell_type": "markdown",
   "metadata": {
    "slideshow": {
     "slide_type": "subslide"
    }
   },
   "source": [
    "### TAURUS GUI FEATURES - first customizations\n",
    " \n",
    "* Maximize the GUI and unlock the view': View -> Lock View\n",
    "* Check the panels that have been automatically created:\n",
    "  * Manual\n",
    "  * Sardana macros panels (Experiment Config, Macros, Sequences, MacroDescription, DoorOutput, DoorDebug, DoorResult)\n",
    "  * Synoptic (demoBL)\n",
    "  * Sardana Instrument panels (/monitor, /slit, /mirror)\n",
    "* Reorder the panels for \"macro execution\" work:\n",
    "  * close (hide) all panels except the macros related panels\n",
    "  * reorder the panels so in a way that is appropriate to launch and monitor macros \n",
    "    (e.g. tabbing on together on one side Macros+Sequencer+Expconf and on the other \n",
    "    side MacroDescription above and all Door* panels tabbed below)\n",
    "  "
   ]
  },
  {
   "cell_type": "markdown",
   "metadata": {
    "slideshow": {
     "slide_type": "subslide"
    }
   },
   "source": [
    "### TAURUS GUI FEATURES - explore and execute macros\n",
    "\n",
    "* Go to the `ExperimentConfiguration` panel, first switch to the \"Simple View\" (from the context menu) and then enable plotting ct1 and ct2\n",
    "  * (Use Plot : `Spectrum`, PlotAxes: `<mov>` and don't forget to Apply)\n",
    "  * (More features of this widget to be explained in a later session)\n",
    "* Go to the Macros panel\n",
    "  * select ascan macro (note that the description appears in the MacroDescription Panel)\n",
    "  * fill the parameters (the same as in the scan run in Spock)\n",
    "    * Note that the existing moveables are offered for the first parameter\n",
    "    * Note that the command is shown in the yellow line\n",
    "  * Run the macro ascan\n",
    "    * Note the led indicating that the door changed to running state\n",
    "    * Note that a Trend Panel appears (it may be hidden in a tab)\n",
    "    * Put it in a visible place and re-run the macro to show the online plot & the door output simultaneously\n",
    "    * Note that the macro was stored in the history and that it can be marked as \"favourite\"\n",
    "    * Re-run the scan and try to stop, pause and resume it\n",
    "* Save a perspective called `macros`"
   ]
  },
  {
   "cell_type": "markdown",
   "metadata": {
    "slideshow": {
     "slide_type": "subslide"
    }
   },
   "source": [
    "### TAURUS GUI FEATURES - interact with instruments using synoptic (I)\n",
    "\n",
    "* Reorder the widgets for \"interaction with instruments\":\n",
    "  * Go to Panels -> hide all panels\n",
    "  * Click on the \"demoBL\" button in the toolbar to show the synoptic panel\n",
    "  * Click on the \"mirror\" instrument in the synoptic (the area below \"DCM\"). This should show the \"/mirror\" panel\n",
    "  * move the \"mirror\" panel above the synoptic\n",
    "  * Click on the slits in the synoptics (labelled \"diagnostics\" in the synoptic). \n",
    "    This should  show the \"/slits\" panel. Move it to a tab together with \"/mirror\"\n",
    "  * Click on the monitor in the synoptics (labelled \"FSM4\" in the synoptic). \n",
    "    This should  show the \"/monitor\" panel. Move it to a tab together with \"/mirror\" and \"/slits\"\n",
    "  * Show the 2-ways communication between panels and synoptics:\n",
    "    * Click on the active areas of the synoptics and show that the corresponding panels are shown\n",
    "    * Select the panels and see that the synoptic highlights the corresponding area "
   ]
  },
  {
   "cell_type": "markdown",
   "metadata": {
    "slideshow": {
     "slide_type": "subslide"
    }
   },
   "source": [
    "### TAURUS GUI FEATURES - interact with instruments using synoptic (II)\n",
    "* Move the mot01 and gap01 motors in the \"/slit\" panel using the _motor widget_\n",
    "    * note the changing state of physical and pseduo motors\n",
    "    * show absolute and relative mode of move\n",
    "    * stop button and attributes dialogue (context menu -> Tango Attributes)\n",
    "* Save a perspective called `instruments`\n",
    "* Switch back and forth perspectives `macros` and `instruments`"
   ]
  },
  {
   "cell_type": "markdown",
   "metadata": {
    "collapsed": true,
    "slideshow": {
     "slide_type": "subslide"
    }
   },
   "source": [
    "### TAURUS GUI FEATURES - add and modify custom panels (I)\n",
    "\n",
    "* Open the \"/slit\" panel. Note that it cannot be modified by the user, because it is auto-created based on sardana config\n",
    "* Create a friendlier slits panel:\n",
    "  * Use New Panel button\n",
    "  * Select TaurusForm and use name \"myslit\" and click \"Finish\"\n",
    "  * Drag and drop \"gap01\" and \"offset01\" from \"/slit\" to \"myslit\"\n",
    "  * Hide buttons of \"myslit\" panel (Uncheck \"Show buttons\" in the context menu)\n",
    "  * Set compact mode in \"myslit\" panel (In the context menu)\n",
    "  * Associate the synoptic to the new panel: \n",
    "    * Go to Tools Menu --> \"Manage instrument-panel associations\"  -> Associate Instrument `/slit` with panel `myslit` --> OK\n",
    "  * Close (hide) the \"/slits\" panel and place the \"myslit\" panel in its place\n",
    "  * check that now the synoptic is 2-way associated with the myslit panel"
   ]
  },
  {
   "cell_type": "markdown",
   "metadata": {
    "slideshow": {
     "slide_type": "subslide"
    }
   },
   "source": [
    "### TAURUS GUI FEATURES - add and modify custom panels (II)\n",
    "\n",
    "* Hide all panels\n",
    "* Create a Tango DB tree panel:\n",
    "  * Use New Panel button\n",
    "    * Select TaurusDBTreeWidget and use name `db`\n",
    "    * Click on \"Advanced Settings\" and set `tango://buster.localdomain:10000` as model and click on finish\n",
    "* Create a Plot panel:\n",
    "  * Use New Panel button\n",
    "    * Select TaurusPlot and use name `plot` and click on finish\n",
    "* Create a Form panel:\n",
    "  * Use New Panel button\n",
    "    * Select TaurusForm and use name `form` and click on finish\n",
    "* Make sure that the \"db\" and \"form\" and \"plot\" panels are all **simultaneously** visible\n",
    "* Add a new element to the \"form\" form panel:\n",
    "  * Navigate in the db panel to `sys/tg_test/1/ampli`, and drag and drop it into \"form\". \n",
    "  * Navigate in the db panel to `sys/tg_test/1/boolean_scalar`, and drag and drop it into \"form\"\n",
    "  * Navigate in the db panel to `sys/tg_test/1/wave`, and drag and drop it into \"plot\""
   ]
  },
  {
   "cell_type": "markdown",
   "metadata": {
    "slideshow": {
     "slide_type": "subslide"
    }
   },
   "source": [
    "### TAURUS GUI FEATURES - add and modify custom panels (III)\n",
    "* Further customize \"form\"\n",
    "  * self drag&drop ampli to create a duplicated display of \"ampli\"\n",
    "  * right-click label of \"ampli\" -> Change write Widget -> TaurusWheelEdit \n",
    "  * right click label of \"ampli\" and select Change label to \"voltage\"\n",
    "    Note that this is a change at the **widget** level\n",
    "  * right-click label of \"voltage\" and select \"Configurations->All\" and set unit to \"millivolts\" and exit config dialog. \n",
    "    <br/>Note that this is a change at the **Tango Attribute** level!\n",
    "    <br/>Don't worry about the error message. It warns about change of the attribute's value from dimensionles to millivolts. \n",
    "  * Note the units support: \n",
    "    * both \"ampli\" and \"voltage\" now display \"mV\"\n",
    "    * if you use the line edit of \"voltage\" to write `1V`, the value will change to 1000 mV in both \"ampli\" and \"voltage\""
   ]
  }
 ],
 "metadata": {
  "celltoolbar": "Slideshow",
  "kernelspec": {
   "display_name": "Python 2",
   "language": "python",
   "name": "python2"
  },
  "language_info": {
   "codemirror_mode": {
    "name": "ipython",
    "version": 2
   },
   "file_extension": ".py",
   "mimetype": "text/x-python",
   "name": "python",
   "nbconvert_exporter": "python",
   "pygments_lexer": "ipython2",
   "version": "2.7.13"
  }
 },
 "nbformat": 4,
 "nbformat_minor": 4
}
