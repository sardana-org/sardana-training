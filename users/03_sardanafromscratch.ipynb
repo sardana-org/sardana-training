{
 "cells": [
  {
   "cell_type": "markdown",
   "metadata": {
    "slideshow": {
     "slide_type": "slide"
    }
   },
   "source": [
    "# Installation and configuration of Sardana system from scratch\n",
    "<br>\n",
    "<br>\n",
    "<img alt=\"Creative Commons License\" style=\"border-width:0\" src=\"https://i.creativecommons.org/l/by/4.0/88x31.png\" />\n",
    "Sardana-Training by ALBA Synchrotron is licensed under the Creative Commons Attribution 4.0 International License.  \n",
    "To view a copy of this license, visit http://creativecommons.org/licenses/by/4.0/."
   ]
  },
  {
   "cell_type": "markdown",
   "metadata": {
    "slideshow": {
     "slide_type": "slide"
    }
   },
   "source": [
    "# Installation and configuration of Sardana system from scratch\n",
    "\n",
    "* How to install Sardana Suite?\n",
    "    * Sardana and Taurus releases\n",
    "    * Review dependencies\n",
    "* Create the workshop enviroment\n",
    "    * Create and run Sardana server\n",
    "    * Create profile and run Spock CLI\n",
    "    * Create simulated environment and quick demo"
   ]
  },
  {
   "cell_type": "markdown",
   "metadata": {
    "slideshow": {
     "slide_type": "slide"
    }
   },
   "source": [
    "# Releases and latest code\n",
    "\n",
    "## Official releases\n",
    "\n",
    "Taurus and Sardana aim to produce at least **2 official releases per year** (in January and July) in PyPI.\n",
    "Additional installable files (.wheel, .msi, .deb, etc.) may also be released on GitHub.\n",
    "\n",
    "The official releases are also pushed and tagged on the `master` branch of the official repositories.\n",
    "\n",
    "## Latest code\n",
    "\n",
    "The latest code can be found in the `develop` branch of the repositories. \n",
    "\n",
    "For more details and information on how to contribute, see the `CONTRIBUTING.md` files ([taurus](https://github.com/taurus-org/taurus/blob/develop/CONTRIBUTING.md) / [sardana](https://github.com/sardana-org/sardana/blob/develop/CONTRIBUTING.md)) "
   ]
  },
  {
   "cell_type": "markdown",
   "metadata": {
    "slideshow": {
     "slide_type": "slide"
    }
   },
   "source": [
    "# How to install Sardana Suite\n",
    "\n",
    "## [Taurus](http://www.taurus-scada.org/users/getting_started.html#installing)\n",
    "* [Debian Packages](https://packages.debian.org/search?keywords=python-taurus)\n",
    "```\n",
    "apt-get install python-taurus\n",
    "```\n",
    "* [PyPI and pip](https://pypi.python.org/pypi/taurus/4.6.1)\n",
    "```\n",
    "# pip install taurus\n",
    "pip3 install taurus\n",
    "```\n",
    "* For developers:\n",
    "```\n",
    "git clone https://github.com/taurus-org/taurus.git\n",
    "# pip install -e ./taurus\n",
    "pip3 install -e ./taurus\n",
    "```"
   ]
  },
  {
   "cell_type": "markdown",
   "metadata": {
    "slideshow": {
     "slide_type": "subslide"
    }
   },
   "source": [
    "# [Taurus dependencies](http://www.taurus-scada.org/users/getting_started.html#dependencies)\n",
    "\n",
    "* python 2.7 | **>=3.5**\n",
    "* numpy >=1.1\n",
    "* pint\n",
    "* taurus-epics\n",
    "    * pyepics\n",
    "* taurus-h5file\n",
    "    * h5py\n",
    "* taurus-tango\n",
    "    * PyTango\n",
    "* taurus-pyqtgraph\n",
    "    * pyqtgraph\n",
    "* taurus-qt\n",
    "    * pyqt4 | **pyqt5** | pyside1 | pyside2\n",
    "    * lxml\n",
    "    * guiqwt\n",
    "    * ply\n",
    "* taurus-qt-editor\n",
    "    * spyder >=3\n",
    "* Others:\n",
    "    * pymca"
   ]
  },
  {
   "cell_type": "markdown",
   "metadata": {
    "slideshow": {
     "slide_type": "subslide"
    }
   },
   "source": [
    "# How to install Sardana Suite\n",
    "## [Sardana](http://www.sardana-controls.org/users/getting_started/installing.html#installing)\n",
    "\n",
    "* [Debian Packages](https://packages.debian.org/search?keywords=python-sardana)\n",
    "```\n",
    "apt-get install python-sardana\n",
    "```\n",
    "* [PyPI and pip](https://pypi.python.org/pypi/sardana/2.8.3)\n",
    "```\n",
    "pip install sardana\n",
    "```\n",
    "* For developers:\n",
    "```\n",
    "git clone https://github.com/sardana-org/sardana.git\n",
    "pip3 install -e ./sardana\n",
    "```"
   ]
  },
  {
   "cell_type": "markdown",
   "metadata": {
    "slideshow": {
     "slide_type": "subslide"
    }
   },
   "source": [
    "# [Sardana dependencies](http://www.sardana-controls.org/users/getting_started/installing.html#dependencies)\n",
    "\n",
    "* python 3 (last official release still on python >= 2.6 and < 3)\n",
    "* lxml\n",
    "* PyTango >= 9.2.5 (last stable release >= 7.2.6)\n",
    "    * itango\n",
    "* Taurus >= 4.5.4 (last stable release >= 3.6)\n",
    "* Others:\n",
    "    * hkl\n",
    "    * h5py"
   ]
  },
  {
   "cell_type": "markdown",
   "metadata": {
    "slideshow": {
     "slide_type": "slide"
    }
   },
   "source": [
    "# Create the workshop enviroment"
   ]
  },
  {
   "cell_type": "markdown",
   "metadata": {
    "slideshow": {
     "slide_type": "subslide"
    }
   },
   "source": [
    "# Install Sardana Suite\n",
    "\n",
    "* Taurus installation\n",
    "```\n",
    "pip3 install --user git+https://github.com/taurus-org/taurus.git@icalepcs2019\n",
    "```\n",
    "* Sardana installation\n",
    "```\n",
    "pip3 install --user git+https://github.com/sardana-org/sardana.git@icalepcs2019\n",
    "```"
   ]
  },
  {
   "cell_type": "markdown",
   "metadata": {
    "slideshow": {
     "slide_type": "subslide"
    }
   },
   "source": [
    "## Run and populate Sardana\n",
    "  \n",
    "* The goal:\n",
    "\n",
    "![sardana](res/sardana.png)\n",
    "\n"
   ]
  },
  {
   "cell_type": "markdown",
   "metadata": {
    "slideshow": {
     "slide_type": "subslide"
    }
   },
   "source": [
    "* Instantiate the **Sardana Tango Device Server**:\n",
    "\n",
    "```\n",
    "Sardana demo1 --log-level=debug\n",
    "```\n"
   ]
  },
  {
   "cell_type": "markdown",
   "metadata": {
    "slideshow": {
     "slide_type": "subslide"
    }
   },
   "source": [
    "![sardana_empty](res/sardana_empty.png)"
   ]
  },
  {
   "cell_type": "markdown",
   "metadata": {
    "slideshow": {
     "slide_type": "subslide"
    }
   },
   "source": [
    "### Spock\n",
    "\n",
    "* CLI based on IPython\n",
    "* Single point of control - allows to execute macros and control elements\n",
    "* Allows to work with multiple profiles i.e. connecting to different doors\n",
    "\n",
    "### Run spock:\n",
    "\n",
    "```\n",
    "spock\n",
    "```\n",
    "\n",
    "Ups... crash, most probably due to some problems with matplotlib, Ctrl+C and start again.\n",
    "\n",
    "### Populate Sardana from Spock:\n",
    "\n",
    "```\n",
    "sar_demo\n",
    "```"
   ]
  },
  {
   "cell_type": "markdown",
   "metadata": {
    "slideshow": {
     "slide_type": "subslide"
    }
   },
   "source": [
    "## Macros and quick demo\n",
    "* Sardana macro [catalog](http://www.sardana-controls.org/users/standard_macro_catalog.html)\n",
    "```\n",
    "lsdef\n",
    "lsa\n",
    "```\n",
    "\n",
    "* motion example:\n",
    "```\n",
    "umv mot01 20\n",
    "```\n",
    "\n",
    "* acquisition example:\n",
    "```\n",
    "uct 2 ct01\n",
    "```\n",
    "\n",
    "* scan example:\n",
    "```\n",
    "ascan?\n",
    "ascan mot01 0 10 10 0.1\n",
    "```"
   ]
  }
 ],
 "metadata": {
  "celltoolbar": "Slideshow",
  "kernelspec": {
   "display_name": "Python 2",
   "language": "python",
   "name": "python2"
  },
  "language_info": {
   "codemirror_mode": {
    "name": "ipython",
    "version": 2
   },
   "file_extension": ".py",
   "mimetype": "text/x-python",
   "name": "python",
   "nbconvert_exporter": "python",
   "pygments_lexer": "ipython2",
   "version": "2.7.13"
  }
 },
 "nbformat": 4,
 "nbformat_minor": 1
}
