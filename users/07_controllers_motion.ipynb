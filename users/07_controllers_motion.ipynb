{
 "cells": [
  {
   "cell_type": "markdown",
   "metadata": {
    "slideshow": {
     "slide_type": "slide"
    }
   },
   "source": [
    "\n",
    "# Motion controllers\n",
    "<br>\n",
    "<br>\n",
    "<img alt=\"Creative Commons License\" style=\"border-width:0\" src=\"https://i.creativecommons.org/l/by/4.0/88x31.png\" />\n",
    "Sardana-Training by ALBA Synchrotron is licensed under the Creative Commons Attribution 4.0 International License.  \n",
    "To view a copy of this license, visit http://creativecommons.org/licenses/by/4.0/."
   ]
  },
  {
   "cell_type": "markdown",
   "metadata": {
    "slideshow": {
     "slide_type": "slide"
    }
   },
   "source": [
    "## Contents\n",
    "* Writing controller - general\n",
    "* Writing motor controller - Blender blades\n",
    "* Pseudomotor basics - Slit controller"
   ]
  },
  {
   "cell_type": "markdown",
   "metadata": {
    "slideshow": {
     "slide_type": "slide"
    }
   },
   "source": [
    "### Before writing a new controller\n",
    "* Before writing a new controller check in the [catalogue](https://github.com/sardana-org/sardana-plugins) if someone already wrote a similar one\n",
    "* If not, it does not harm to ask on one of the communication channels e.g. mailing list, github issue, etc."
   ]
  },
  {
   "cell_type": "markdown",
   "metadata": {
    "slideshow": {
     "slide_type": "slide"
    }
   },
   "source": [
    "### Controller plugins discovery\n",
    "* Sardana built-in controllers are importable from `sardana.pool.poolcontrollers`\n",
    "* The plugin discovery system is based on directory scanning and python module inspection\n",
    "* Custom controllers should be installed in one of the `PoolPath` directories:\n",
    " * Create /controllers directory:\n",
    "   ```\n",
    "   mkdir ~/controllers\n",
    "   ```\n",
    " * In spock configure `PoolPath`:\n",
    "   ```\n",
    "   Pool_demo1_1.put_property({\"PoolPath\":[\"/home/vagrant/controllers\"]})\n",
    "   ```\n",
    " * Restart the Sardana server\n",
    "* The path order is important! Controllers in the higher position paths will take precedence over the lower position paths."
   ]
  },
  {
   "cell_type": "markdown",
   "metadata": {
    "slideshow": {
     "slide_type": "slide"
    }
   },
   "source": [
    "### Blender Blades Motor Controller\n",
    "\n",
    "* Open the code with your favourite editor e.g.:\n",
    "  ```\n",
    "  kwrite ~/sardana-training/controllers/templates/BlenderBladesMotorCtrl.py\n",
    "  ```"
   ]
  },
  {
   "cell_type": "markdown",
   "metadata": {
    "slideshow": {
     "slide_type": "subslide"
    }
   },
   "source": [
    "### Blender Blades Motor Controller\n",
    "\n",
    "* Install Blender Slits system:\n",
    "  ```\n",
    "  pip3 install --user ~/sardana-training/blender-slits\n",
    "  ```\n",
    "* Start the blnder simulation: \n",
    "  ```\n",
    "  blender-slits-server\n",
    "  ```\n",
    "* Blender Blades system (NOT PART OF SARDANA): \n",
    " * Communication protocol is explained in: `~/sardana-training/blender-slits/README.md`\n",
    " * Directions are in the hardware coordinate system\n",
    " * Positions are not calibrated in the local coordinate system - beam axis is not the zero!"
   ]
  },
  {
   "cell_type": "markdown",
   "metadata": {
    "slideshow": {
     "slide_type": "subslide"
    }
   },
   "source": [
    "### [Writing constructor](http://www.sardana-controls.org/devel/howto_controllers/howto_controller.html#constructor)\n",
    "* Constructor\n",
    " * Called on: controllers creation, pool startup and controller's code reload\n",
    " * Accepts arguments: instance (name of the controller instance) and properties (dictionary with the controller properties)\n",
    " * If an exception is raised when constructing the controller, the controller automatically gets into the Fault state and its status describes the exception that occured\n",
    "* [Define controller properties](http://www.sardana-controls.org/devel/howto_controllers/howto_controller.html#extra-controller-properties): `host` and `port`\n",
    "* Instantiate `BlenderBlades` in the constructor"
   ]
  },
  {
   "cell_type": "markdown",
   "metadata": {
    "slideshow": {
     "slide_type": "subslide"
    }
   },
   "source": [
    "### Instantiate controller\n",
    "* Deploy controller:\n",
    "  ```\n",
    "  ln -s ~/sardana-training/controllers/templates/BlenderBladesMotorCtrl.py ~/controllers\n",
    "  ```\n",
    "* Load it in the system (in Spock):\n",
    "  ```\n",
    "  addctrllib BlenderBladesMotorCtrl\n",
    "  ```\n",
    "* Check if the controller library was corectly loaded (in Spock):\n",
    "  ```\n",
    "  lsctrllib\n",
    "  ```\n",
    "* Create an instance of the controller (in Spock):\n",
    "  ```\n",
    "  defctrl BlenderBladesMotorController bleblactrl\n",
    "  ```\n",
    "* Ask for controllers state (in Spock):\n",
    "  ```\n",
    "  bleblactrl.state()\n",
    "  ```"
   ]
  },
  {
   "cell_type": "markdown",
   "metadata": {
    "slideshow": {
     "slide_type": "subslide"
    }
   },
   "source": [
    "### [Implement StateOne](http://www.sardana-controls.org/devel/howto_controllers/howto_motorcontroller.html#get-motor-state)\n",
    "* Get axis state (State sequence)\n",
    " * Applies only to the to physical elements\n",
    " * Called on: state request, during operations e.g. motion, acquisition\n",
    " * Returns: state and optionally status, if no status is returned, it will be composed by Sardana from the state (in case of motor also returns limit switches)\n",
    " * If an exception is raised when reading the state, the axis automatically gets into the Fault state and the status contains the exception details."
   ]
  },
  {
   "cell_type": "markdown",
   "metadata": {
    "slideshow": {
     "slide_type": "subslide"
    }
   },
   "source": [
    "### [Implement StateOne](http://www.sardana-controls.org/devel/howto_controllers/howto_motorcontroller.html#get-motor-state)\n",
    "* Implement AXIS_NAMES class member for quick lookup to motor identifiers\n",
    "* Implement AXIS_ID and VALUE class members for refering to the corresponing part of the answer\n",
    "* Implement method by quering `?state <axis id>`"
   ]
  },
  {
   "cell_type": "markdown",
   "metadata": {
    "slideshow": {
     "slide_type": "subslide"
    }
   },
   "source": [
    "### [Implement ReadOne](http://www.sardana-controls.org/devel/howto_controllers/howto_motorcontroller.html#get-motor-position)\n",
    "* Implement method by quering `?pos <axis id>`"
   ]
  },
  {
   "cell_type": "markdown",
   "metadata": {
    "slideshow": {
     "slide_type": "subslide"
    }
   },
   "source": [
    "### Instantiate top motor\n",
    "* Reload controller code (in Spock):\n",
    "  ```\n",
    "  relctrlcls BlenderBladesMotorController\n",
    "  ``` \n",
    "* Create motor instance (in Spock): \n",
    "  ```\n",
    "  defelem top bleblactrl 1\n",
    "  ```\n",
    "* Ask for motor state (in Spock):\n",
    "  ```\n",
    "  top.state()\n",
    "  ```\n",
    "* Ask for motor position (in Spock):\n",
    "  ```\n",
    "  top.position\n",
    "  ```\n",
    "  or\n",
    "  ```\n",
    "  wm top\n",
    "  ```"
   ]
  },
  {
   "cell_type": "markdown",
   "metadata": {
    "slideshow": {
     "slide_type": "subslide"
    }
   },
   "source": [
    "### [Implement StartOne](http://www.sardana-controls.org/devel/howto_controllers/howto_motorcontroller.html#move-a-motor)\n",
    "* Implement method by commanding `<axis id> <pos>`"
   ]
  },
  {
   "cell_type": "markdown",
   "metadata": {
    "slideshow": {
     "slide_type": "subslide"
    }
   },
   "source": [
    "### Move top motor\n",
    "* Reload controller code (in Spock):\n",
    "  ```\n",
    "  relctrlcls BlenderBladesMotorController\n",
    "  ``` \n",
    "* Ask motor to move (in Spock):\n",
    "  ```\n",
    "  umvr top 10\n",
    "  ```"
   ]
  },
  {
   "cell_type": "markdown",
   "metadata": {
    "slideshow": {
     "slide_type": "subslide"
    }
   },
   "source": [
    "### [Implement AbortOne](http://www.sardana-controls.org/devel/howto_controllers/howto_motorcontroller.html#abort-a-motor)\n",
    "* Implement method by commanding `abort`"
   ]
  },
  {
   "cell_type": "markdown",
   "metadata": {
    "slideshow": {
     "slide_type": "subslide"
    }
   },
   "source": [
    "### Move and abort top motor\n",
    "* Reload controller code (in Spock):\n",
    "  ```\n",
    "  relctrlcls BlenderBladesMotorController\n",
    "  ``` \n",
    "* Ask motor to move (in Spock):\n",
    "  ```\n",
    "  umvr top 50\n",
    "  ```\n",
    "* Issue `Ctrl+C` in Spock"
   ]
  },
  {
   "cell_type": "markdown",
   "metadata": {
    "slideshow": {
     "slide_type": "subslide"
    }
   },
   "source": [
    "### [Implement standard axis attributes](http://www.sardana-controls.org/devel/howto_controllers/howto_motorcontroller.html#standard-axis-attributes)\n",
    "* Implement `GetAxisPar` method\n",
    " * Implement velocity by querying `?vel <axis id>`\n",
    " * Implement acceleration by querying `?acc <axis id>`\n",
    " * Implement deceleration by querying `?dec <axis id>`\n",
    " * Hardcode base_rate to 0\n",
    " * Hardcode steps_per_unit to 1"
   ]
  },
  {
   "cell_type": "markdown",
   "metadata": {
    "slideshow": {
     "slide_type": "subslide"
    }
   },
   "source": [
    "### Read standard axis attributes\n",
    "* Read attributes (in Spock):\n",
    "  * Read velocity:\n",
    "    ```\n",
    "    top.velocity\n",
    "    ```\n",
    "  * Read acceleration time:\n",
    "    ```\n",
    "    top.acceleration\n",
    "    ```\n",
    "  * Read deceleration time:\n",
    "    ```\n",
    "    top.deceleration\n",
    "    ```"
   ]
  },
  {
   "cell_type": "markdown",
   "metadata": {
    "slideshow": {
     "slide_type": "subslide"
    }
   },
   "source": [
    "### [Implement standard axis attributes](http://www.sardana-controls.org/devel/howto_controllers/howto_motorcontroller.html#standard-axis-attributes)\n",
    "* Implement `SetAxisPar` method\n",
    " * Implement velocity by commanding `vel <axis id> <value>`\n",
    " * Implement acceleration by commanding `acc <axis id> <value>`\n",
    " * Implement deceleration by commanding `dec <axis id> <value>`\n",
    " * Raise exception when base_rate is set\n",
    " * Raise exception when steps_per_unit is set\n",
    " \n",
    " "
   ]
  },
  {
   "cell_type": "markdown",
   "metadata": {
    "slideshow": {
     "slide_type": "subslide"
    }
   },
   "source": [
    "### Write standard axis attributes\n",
    "* Change velocity attribute (in Spock):\n",
    "    * Write new velocity:\n",
    "      ```\n",
    "      top.velocity = 1\n",
    "      ```\n",
    "    * Make some moves e.g.\n",
    "      ```\n",
    "      umvr top 5\n",
    "      ```"
   ]
  },
  {
   "cell_type": "markdown",
   "metadata": {
    "slideshow": {
     "slide_type": "subslide"
    }
   },
   "source": [
    "### Align slits\n",
    "* Define the rest of the motors (in Spock, line by line):\n",
    "  ```\n",
    "  defm bottom bleblactrl 2\n",
    "  defm left bleblactrl 3\n",
    "  defm right bleblactrl 4\n",
    "  ```\n",
    "* Ask for motor positions (in Spock):\n",
    "  ```\n",
    "  wm top bottom left right\n",
    "  ```\n",
    "* Determine direction with relative move and adjust sign (in Spock, line by line):\n",
    "  ```\n",
    "  bottom.sign = -1\n",
    "  left.sign = -1\n",
    "  ```\n",
    "* Fully close slits and change offset by using the `set_user_pos` macro (in Spock, line by line):\n",
    "  ```\n",
    "  set_user_pos top 0\n",
    "  set_user_pos bottom 0\n",
    "  set_user_pos left 0\n",
    "  set_user_pos right 0\n",
    "  ```\n",
    "* Open and close gap by moving physical motors (in Spock, line by line)\n",
    "  ```\n",
    "  mv top 5 bottom 5 left 5 right 5\n",
    "  mv top 0 bottom 0 left 0 right 0\n",
    "  ```"
   ]
  },
  {
   "cell_type": "markdown",
   "metadata": {
    "slideshow": {
     "slide_type": "slide"
    }
   },
   "source": [
    "### Pseudomotor basics - Slit\n",
    "\n",
    "* `Slit` controller - Sardana's standard slit controller\n",
    "* Physical axes = motors that will be moved\n",
    "* Pseudo axes = virtual axes consisting of physical axes\n",
    "* `pseudo_motor_roles` and `motor_roles` class members defines number of pseudo and physical axes used by the controller\n",
    "* Instantiate vertical slits controller (in Spock): \n",
    "  ```\n",
    "  defctrl Slit vertctrl sl2t=top sl2b=bottom Gap=gapvert Offset=offsetvert\n",
    "  ```\n",
    "* Instantiate horizontal slits controller:\n",
    "  ```\n",
    "  defctrl Slit horctrl sl2t=right sl2b=left Gap=gaphor Offset=offsethor\n",
    "  ```"
   ]
  },
  {
   "cell_type": "markdown",
   "metadata": {
    "slideshow": {
     "slide_type": "subslide"
    }
   },
   "source": [
    "### Inside Slit controller\n",
    "\n",
    "* `CalcPhysical` method, for calculating physical axes positions based on pseudo axes position\n",
    " * Calculate half_gap\n",
    " * top = offset + half_gap \n",
    " * Bottom would be offset - half_gap if directions were common\n",
    " * Since the directions are opposit bottom = half_gap - offset\n",
    "* `CalcPseudo` method, for calculating pseudo axes positions based on physical ones\n",
    " * gap = bottom + top\n",
    " * offset = top - half_gap"
   ]
  },
  {
   "cell_type": "markdown",
   "metadata": {
    "slideshow": {
     "slide_type": "subslide"
    }
   },
   "source": [
    "### Play with the slits\n",
    "\n",
    "* Open the gaps: `mv gapvert 10 gaphor 10`\n",
    "* Make a scan of offset: `dscan offsetvert -10 10 10 0.1`"
   ]
  }
 ],
 "metadata": {
  "celltoolbar": "Slideshow",
  "kernelspec": {
   "display_name": "Python 2",
   "language": "python",
   "name": "python2"
  },
  "language_info": {
   "codemirror_mode": {
    "name": "ipython",
    "version": 2
   },
   "file_extension": ".py",
   "mimetype": "text/x-python",
   "name": "python",
   "nbconvert_exporter": "python",
   "pygments_lexer": "ipython2",
   "version": "2.7.13"
  }
 },
 "nbformat": 4,
 "nbformat_minor": 2
}
